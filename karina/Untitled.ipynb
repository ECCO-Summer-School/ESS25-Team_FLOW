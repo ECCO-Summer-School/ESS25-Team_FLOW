{
 "cells": [
  {
   "cell_type": "code",
   "execution_count": 1,
   "id": "366f633c-8139-4c7a-bb4e-34a51714ec96",
   "metadata": {},
   "outputs": [],
   "source": [
    "\"\"\"\n",
    "Budyko–Sellers EBM with time-dependent, latitude-constant insolation.\n",
    "Reads a 1D insolation file, evolves surface temperature, computes cost,\n",
    "and generates plots.\n",
    "\"\"\"\n",
    "\n",
    "import numpy as np\n",
    "import matplotlib.pyplot as plt\n",
    "\n",
    "def budyko_sellers_time_dep(XXS, insol, DT, N):\n",
    "    \"\"\"\n",
    "    Run Budyko–Sellers EBM with time-varying insolation.\n",
    "\n",
    "    Parameters\n",
    "    ----------\n",
    "    XXS : array_like, shape (2*N,)\n",
    "        Control vector [Δα_logit (N), Δε_logit (N)]\n",
    "    insol : array_like, shape (NT,)\n",
    "        Insolation time series (constant in latitude).\n",
    "    DT : float\n",
    "        Time step (seconds).\n",
    "    N : int\n",
    "        Number of latitude bands.\n",
    "    Returns\n",
    "    -------\n",
    "    T : ndarray, shape (N,)\n",
    "        Final temperature profile (K).\n",
    "    \"\"\"\n",
    "    # Grid\n",
    "    Xedges = np.linspace(-1, 1, N+1)\n",
    "    X = 0.5 * (Xedges[:-1] + Xedges[1:])\n",
    "    DX = X[1] - X[0]\n",
    "    LAT = np.degrees(np.arcsin(X))\n",
    "\n",
    "    # Constants\n",
    "    SIGMA = 5.67e-8\n",
    "    EPSILON = 0.63\n",
    "    DIFF = 0.6\n",
    "\n",
    "    # Split controls\n",
    "    dalpha = XXS[:N]\n",
    "    demiss = XXS[N:]\n",
    "\n",
    "    # Initial T\n",
    "    T = 288.0 + 60.0*(1 - X**2) - 20.0\n",
    "\n",
    "    # Time integration\n",
    "    for val in insol:\n",
    "        SX = val\n",
    "        # Albedo\n",
    "        alpha0 = 0.354 + 0.25*(1.5*np.sin(np.radians(LAT))**2 - 0.5)\n",
    "        alpha_logit = np.log(alpha0/(1-alpha0)) + dalpha\n",
    "        ALPHA = 1.0/(1.0 + np.exp(-alpha_logit))\n",
    "        # Emissivity\n",
    "        emiss_logit = np.log(EPSILON/(1-EPSILON)) + demiss\n",
    "        emiss = 1.0/(1.0 + np.exp(-emiss_logit))\n",
    "\n",
    "        FIN = SX * (1 - ALPHA)\n",
    "        FOUT = emiss * SIGMA * T**4\n",
    "\n",
    "        # Diffusion\n",
    "        FDIFF = np.zeros_like(T)\n",
    "        for i in range(N):\n",
    "            if i == 0:\n",
    "                FDIFF[i] = DIFF*(1 - Xedges[1]**2)*(T[i+1]-T[i])/(DX*DX)\n",
    "            elif i == N-1:\n",
    "                FDIFF[i] = -DIFF*(1 - Xedges[N]**2)*(T[i]-T[i-1])/(DX*DX)\n",
    "            else:\n",
    "                FDIFF[i] = DIFF*((1 - Xedges[i+1]**2)*(T[i+1]-T[i]) - (1 - Xedges[i]**2)*(T[i]-T[i-1]))/(DX*DX)\n",
    "\n",
    "        T = T + DT*(FIN - FOUT + FDIFF)\n",
    "\n",
    "    return T\n"
   ]
  },
  {
   "cell_type": "code",
   "execution_count": 13,
   "id": "9fb0af1b-3522-4bb3-b8bb-966cc162ee9c",
   "metadata": {},
   "outputs": [
    {
     "name": "stdout",
     "output_type": "stream",
     "text": [
      "Final cost J = 1217.9128\n"
     ]
    }
   ],
   "source": [
    "\n",
    "# Load data\n",
    "insolation = np.loadtxt('insolation.dat')  # (NT,)\n",
    "TARGET_DT = np.loadtxt('T_zonalmean_NCEP.dat')  # (N,)\n",
    "N = TARGET_DT.size\n",
    "DT = 1\n",
    "\n",
    "# Initial control\n",
    "XXS0 = np.zeros(2*N)\n",
    "\n",
    "# Run model\n",
    "T_final = budyko_sellers_time_dep(XXS0, insolation[0:1], DT, N)\n",
    "\n",
    "# Compute cost (K -> °C)\n",
    "J = np.sqrt(np.sum((T_final - TARGET_DT - 273.0)**2))\n",
    "print(f\"Final cost J = {J:.4f}\")\n",
    "\n",
    "# Plot final temperature profile\n",
    "Xedges = np.linspace(-1, 1, N+1)\n",
    "X = 0.5 * (Xedges[:-1] + Xedges[1:])\n",
    "LAT = np.degrees(np.arcsin(X))\n"
   ]
  },
  {
   "cell_type": "code",
   "execution_count": 15,
   "id": "426142e6-8026-48b5-88c1-249fb10679f1",
   "metadata": {},
   "outputs": [
    {
     "data": {
      "text/plain": [
       "array([  89.23367314,   81.61039574,   73.9731792 ,   66.32973871,\n",
       "         58.68789558,   51.05556357,   43.44073521,   35.85146804,\n",
       "         28.29587092,   20.78209027,   13.31829642,    5.91266992,\n",
       "         -1.42661197,   -8.69138874,  -15.87353001,  -22.96494876,\n",
       "        -29.95761436,  -36.84356551,  -43.61492297,  -50.26390206,\n",
       "        -56.78282501,  -63.164133  ,  -69.40039807,  -75.48433461,\n",
       "        -81.40881076,  -87.16685937,  -92.75168876,  -98.15669313,\n",
       "       -103.37546264, -108.40179316, -113.22969574, -117.85340556,\n",
       "       -122.26739075, -126.46636058, -130.44527349, -134.19934457,\n",
       "       -137.7240527 , -141.01514729, -144.06865462, -146.88088365,\n",
       "       -149.44843155, -151.7681887 , -153.83734327, -155.65338536,\n",
       "       -157.21411068, -158.51762383, -159.56234103, -160.34699246,\n",
       "       -160.87062414, -161.13259928, -161.13259928, -160.87062414,\n",
       "       -160.34699246, -159.56234103, -158.51762383, -157.21411068,\n",
       "       -155.65338536, -153.83734327, -151.7681887 , -149.44843155,\n",
       "       -146.88088365, -144.06865462, -141.01514729, -137.7240527 ,\n",
       "       -134.19934457, -130.44527349, -126.46636058, -122.26739075,\n",
       "       -117.85340556, -113.22969574, -108.40179316, -103.37546264,\n",
       "        -98.15669313,  -92.75168876,  -87.16685937,  -81.40881076,\n",
       "        -75.48433461,  -69.40039807,  -63.164133  ,  -56.78282501,\n",
       "        -50.26390206,  -43.61492297,  -36.84356551,  -29.95761436,\n",
       "        -22.96494876,  -15.87353001,   -8.69138874,   -1.42661197,\n",
       "          5.91266992,   13.31829642,   20.78209027,   28.29587092,\n",
       "         35.85146804,   43.44073521,   51.05556357,   58.68789558,\n",
       "         66.32973871,   73.9731792 ,   81.61039574,  -50.47512686])"
      ]
     },
     "execution_count": 15,
     "metadata": {},
     "output_type": "execute_result"
    }
   ],
   "source": [
    "plt.plot(T_final-273)"
   ]
  },
  {
   "cell_type": "code",
   "execution_count": null,
   "id": "60afa07e-e24c-4f99-9a0f-3d010d141d64",
   "metadata": {},
   "outputs": [],
   "source": []
  }
 ],
 "metadata": {
  "kernelspec": {
   "display_name": "Python 3 (ipykernel)",
   "language": "python",
   "name": "python3"
  },
  "language_info": {
   "codemirror_mode": {
    "name": "ipython",
    "version": 3
   },
   "file_extension": ".py",
   "mimetype": "text/x-python",
   "name": "python",
   "nbconvert_exporter": "python",
   "pygments_lexer": "ipython3",
   "version": "3.12.8"
  }
 },
 "nbformat": 4,
 "nbformat_minor": 5
}
